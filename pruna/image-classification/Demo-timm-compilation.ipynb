{
 "cells": [
  {
   "cell_type": "markdown",
   "id": "5f00e9dd",
   "metadata": {},
   "source": [
    "## Load Base Stable Diffusion Model"
   ]
  },
  {
   "cell_type": "code",
   "execution_count": null,
   "id": "316eaa71-99b5-4a6d-a787-2b2a86f40c42",
   "metadata": {},
   "outputs": [],
   "source": [
    "from timm import list_models as timm_list_models\n",
    "from timm import create_model as timm_get_model\n",
    "\n",
    "# Get original model\n",
    "model_name = 'mobilenetv3_small_050.lamb_in1k'\n",
    "device = 'cuda'\n",
    "model = timm_get_model(model_name, pretrained=True).to(device)"
   ]
  },
  {
   "cell_type": "markdown",
   "id": "a491950b",
   "metadata": {},
   "source": [
    "## Smash it!"
   ]
  },
  {
   "cell_type": "code",
   "execution_count": null,
   "id": "dba8ae4c",
   "metadata": {},
   "outputs": [],
   "source": [
    "from pruna.algorithms.smasher_config import SmasherConfig\n",
    "from pruna.algorithms.smasher_config import AutoSmasherConfig\n",
    "from pruna.smash import smash\n",
    "import torch\n",
    "\n",
    "smasher_config = SmasherConfig()\n",
    "smasher_config[\"compiler\"] = \"all\""
   ]
  },
  {
   "cell_type": "code",
   "execution_count": null,
   "id": "47c05a6c",
   "metadata": {},
   "outputs": [],
   "source": [
    "smashed_model = smash(\n",
    "        model=model,\n",
    "        data_module=\"randn_image_3x224x224\",\n",
    "        api_key='your-api-key',\n",
    "        model_config=None,\n",
    "        smasher_config=smasher_config,\n",
    "        device='cuda',\n",
    "    )"
   ]
  },
  {
   "cell_type": "markdown",
   "id": "fc49710a-7aa6-453e-8fef-3e3d7c890667",
   "metadata": {},
   "source": [
    "# Test it!"
   ]
  },
  {
   "cell_type": "code",
   "execution_count": null,
   "id": "781f9b90-9b2e-4884-be2e-c4d7826273a9",
   "metadata": {},
   "outputs": [],
   "source": [
    "import numpy as np\n",
    "from torchvision import transforms\n",
    "\n",
    "image = np.random.randint(\n",
    "                0, 256, size=(224, 224, 3), dtype=np.uint8\n",
    "            )\n",
    "image = transforms.ToTensor()(image).unsqueeze(0)"
   ]
  },
  {
   "cell_type": "markdown",
   "id": "8909d712",
   "metadata": {},
   "source": [
    "## Base Model Generation"
   ]
  },
  {
   "cell_type": "code",
   "execution_count": null,
   "id": "a607d17c",
   "metadata": {},
   "outputs": [],
   "source": [
    "%%time\n",
    "model(image)"
   ]
  },
  {
   "cell_type": "markdown",
   "id": "b7e20052",
   "metadata": {},
   "source": [
    "## Smashed Model Generation"
   ]
  },
  {
   "cell_type": "code",
   "execution_count": null,
   "id": "cbbfa03f",
   "metadata": {},
   "outputs": [],
   "source": [
    "%%time\n",
    "smashed_model(image)"
   ]
  },
  {
   "cell_type": "code",
   "execution_count": null,
   "id": "4b0d18c8-fd78-4be1-97f5-6decef4bc622",
   "metadata": {},
   "outputs": [],
   "source": []
  }
 ],
 "metadata": {
  "kernelspec": {
   "display_name": "Python 3 (ipykernel)",
   "language": "python",
   "name": "python3"
  },
  "language_info": {
   "codemirror_mode": {
    "name": "ipython",
    "version": 3
   },
   "file_extension": ".py",
   "mimetype": "text/x-python",
   "name": "python",
   "nbconvert_exporter": "python",
   "pygments_lexer": "ipython3",
   "version": "3.10.11"
  }
 },
 "nbformat": 4,
 "nbformat_minor": 5
}
