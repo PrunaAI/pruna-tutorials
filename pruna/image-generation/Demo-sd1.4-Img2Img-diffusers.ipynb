{
 "cells": [
  {
   "cell_type": "markdown",
   "id": "5f00e9dd",
   "metadata": {},
   "source": [
    "## Load Base Stable Diffusion Model"
   ]
  },
  {
   "cell_type": "code",
   "execution_count": null,
   "id": "66e2c3f4",
   "metadata": {
    "scrolled": true
   },
   "outputs": [],
   "source": [
    "from diffusers import StableDiffusionImg2ImgPipeline\n",
    "from pruna.algorithms.smasher_config import AutoSmasherConfig\n",
    "from pruna.smash import smash\n",
    "import torch\n",
    "import requests\n",
    "from PIL import Image\n",
    "from io import BytesIO\n",
    "\n",
    "from diffusers import StableDiffusionInpaintPipeline\n",
    "\n",
    "pipe = StableDiffusionImg2ImgPipeline.from_pretrained(\n",
    "    \"CompVis/stable-diffusion-v1-4\",\n",
    "    torch_dtype=torch.float16,\n",
    ")\n",
    "image = Image.open(\n",
    "            BytesIO(\n",
    "                requests.get(\n",
    "                    \"https://huggingface.co/lllyasviel/sd-controlnet-canny/resolve/main/images/bird_canny.png\"\n",
    "                ).content\n",
    "            )\n",
    "        )\n",
    "prompt = \"black dog\"\n",
    "pipe.to('cuda')"
   ]
  },
  {
   "cell_type": "markdown",
   "id": "a491950b",
   "metadata": {},
   "source": [
    "## Smash it!"
   ]
  },
  {
   "cell_type": "code",
   "execution_count": null,
   "id": "dba8ae4c",
   "metadata": {},
   "outputs": [],
   "source": [
    "from pruna.algorithms.smasher_config import SmasherConfig\n",
    "\n",
    "smasher_config = SmasherConfig()\n",
    "smasher_config['compiler'] = 'diffusers'\n",
    "smasher_config['max_batch_size'] = 1\n",
    "smasher_config['image_height'] = 512\n",
    "smasher_config['image_width'] = 512\n",
    "smasher_config['version'] = '1.4'"
   ]
  },
  {
   "cell_type": "code",
   "execution_count": null,
   "id": "47c05a6c",
   "metadata": {},
   "outputs": [],
   "source": [
    "smashed_model = smash(\n",
    "        model=pipe,\n",
    "        data_module=\"img2img\",\n",
    "        api_key='your-api-key',\n",
    "        model_config=None,\n",
    "        smasher_config=AutoSmasherConfig.from_pretrained(\"CompVis/stable-diffusion-v1-4\"),\n",
    "        device='cuda',\n",
    "    )"
   ]
  },
  {
   "cell_type": "markdown",
   "id": "8909d712",
   "metadata": {},
   "source": [
    "## Base Model Generation"
   ]
  },
  {
   "cell_type": "code",
   "execution_count": null,
   "id": "a607d17c",
   "metadata": {},
   "outputs": [],
   "source": [
    "%%time\n",
    "pipe(prompt=prompt, image=image).images[0].show()"
   ]
  },
  {
   "cell_type": "markdown",
   "id": "b7e20052",
   "metadata": {},
   "source": [
    "## Smashed Model Generation"
   ]
  },
  {
   "cell_type": "code",
   "execution_count": null,
   "id": "cbbfa03f",
   "metadata": {},
   "outputs": [],
   "source": [
    "smashed_model(prompt, init_image=image, num_inference_steps=50, image_height=768, image_width=512)[0]"
   ]
  },
  {
   "cell_type": "code",
   "execution_count": null,
   "id": "b7e15667",
   "metadata": {},
   "outputs": [],
   "source": []
  }
 ],
 "metadata": {
  "kernelspec": {
   "display_name": "Python 3 (ipykernel)",
   "language": "python",
   "name": "python3"
  },
  "language_info": {
   "codemirror_mode": {
    "name": "ipython",
    "version": 3
   },
   "file_extension": ".py",
   "mimetype": "text/x-python",
   "name": "python",
   "nbconvert_exporter": "python",
   "pygments_lexer": "ipython3",
   "version": "3.9.18"
  }
 },
 "nbformat": 4,
 "nbformat_minor": 5
}
