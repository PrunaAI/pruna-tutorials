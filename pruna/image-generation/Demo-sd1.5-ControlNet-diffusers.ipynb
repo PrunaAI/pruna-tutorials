{
 "cells": [
  {
   "cell_type": "markdown",
   "id": "5f00e9dd",
   "metadata": {},
   "source": [
    "## Load Base Stable Diffusion Model"
   ]
  },
  {
   "cell_type": "code",
   "execution_count": null,
   "id": "66e2c3f4",
   "metadata": {
    "scrolled": true
   },
   "outputs": [],
   "source": [
    "from diffusers import StableDiffusionImg2ImgPipeline\n",
    "from pruna.algorithms.smasher_config import AutoSmasherConfig\n",
    "from pruna.smash import smash\n",
    "import torch\n",
    "import requests\n",
    "from PIL import Image\n",
    "from io import BytesIO\n",
    "\n",
    "import cv2\n",
    "from PIL import Image\n",
    "from diffusers import StableDiffusionControlNetPipeline, ControlNetModel, UniPCMultistepScheduler, StableDiffusionImg2ImgPipeline\n",
    "import torch\n",
    "import numpy as np\n",
    "from diffusers.utils import load_image\n",
    "\n",
    "image = Image.open(\n",
    "            BytesIO(\n",
    "                requests.get(\n",
    "                    \"https://huggingface.co/lllyasviel/sd-controlnet-canny/resolve/main/images/bird_canny.png\"\n",
    "                ).content\n",
    "            )\n",
    "        )\n",
    "\n",
    "controlnet = ControlNetModel.from_pretrained(\n",
    "    \"lllyasviel/sd-controlnet-canny\", torch_dtype=torch.float16\n",
    ")\n",
    "\n",
    "pipe = StableDiffusionControlNetPipeline.from_pretrained(\n",
    "    \"runwayml/stable-diffusion-v1-5\", controlnet=controlnet, safety_checker=None, torch_dtype=torch.float16\n",
    ")\n",
    "\n",
    "pipe.scheduler = UniPCMultistepScheduler.from_config(pipe.scheduler.config)\n",
    "\n",
    "pipe.to('cuda')\n"
   ]
  },
  {
   "cell_type": "markdown",
   "id": "a491950b",
   "metadata": {},
   "source": [
    "## Smash it!"
   ]
  },
  {
   "cell_type": "code",
   "execution_count": null,
   "id": "9b6a3bda",
   "metadata": {},
   "outputs": [],
   "source": [
    "from pruna.algorithms.smasher_config import SmasherConfig\n",
    "\n",
    "smasher_config = SmasherConfig()\n",
    "smasher_config['compiler'] = 'diffusers'\n",
    "smasher_config['max_batch_size'] = 1\n",
    "smasher_config['image_height'] = 512\n",
    "smasher_config['image_width'] = 512\n",
    "smasher_config['version'] = '1.5'\n",
    "smasher_config['static_shape'] = False\n",
    "smasher_config['controlnet'] = True"
   ]
  },
  {
   "cell_type": "code",
   "execution_count": null,
   "id": "47c05a6c",
   "metadata": {
    "scrolled": true
   },
   "outputs": [],
   "source": [
    "smashed_model = smash(\n",
    "        model=pipe,\n",
    "        data_module=\"img2img\",\n",
    "        api_key='your-api-key',\n",
    "        model_config=None,\n",
    "        smasher_config=smasher_config,\n",
    "        device='cuda',\n",
    "    )"
   ]
  },
  {
   "cell_type": "code",
   "execution_count": null,
   "id": "a005218d",
   "metadata": {},
   "outputs": [],
   "source": [
    "prompt = \"Yellow Bird\""
   ]
  },
  {
   "cell_type": "code",
   "execution_count": null,
   "id": "87a88b29",
   "metadata": {},
   "outputs": [],
   "source": [
    "pipe"
   ]
  },
  {
   "cell_type": "markdown",
   "id": "8909d712",
   "metadata": {},
   "source": [
    "## Base Model Generation"
   ]
  },
  {
   "cell_type": "code",
   "execution_count": null,
   "id": "a607d17c",
   "metadata": {},
   "outputs": [],
   "source": [
    "%%time\n",
    "pipe(prompt=prompt, image=image).images[0].show()"
   ]
  },
  {
   "cell_type": "markdown",
   "id": "b7e20052",
   "metadata": {},
   "source": [
    "## Smashed Model Generation"
   ]
  },
  {
   "cell_type": "code",
   "execution_count": null,
   "id": "cbbfa03f",
   "metadata": {
    "scrolled": false
   },
   "outputs": [],
   "source": [
    "%%time\n",
    "smashed_model(prompt, init_image=image, image_height=768, image_width=512)[0]"
   ]
  }
 ],
 "metadata": {
  "kernelspec": {
   "display_name": "Python 3 (ipykernel)",
   "language": "python",
   "name": "python3"
  },
  "language_info": {
   "codemirror_mode": {
    "name": "ipython",
    "version": 3
   },
   "file_extension": ".py",
   "mimetype": "text/x-python",
   "name": "python",
   "nbconvert_exporter": "python",
   "pygments_lexer": "ipython3",
   "version": "3.9.18"
  }
 },
 "nbformat": 4,
 "nbformat_minor": 5
}
