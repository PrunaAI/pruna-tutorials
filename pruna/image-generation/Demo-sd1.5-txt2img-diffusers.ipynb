{
 "cells": [
  {
   "cell_type": "markdown",
   "id": "5f00e9dd",
   "metadata": {},
   "source": [
    "## Load Base Stable Diffusion Model"
   ]
  },
  {
   "cell_type": "code",
   "execution_count": null,
   "id": "66e2c3f4",
   "metadata": {
    "scrolled": true
   },
   "outputs": [],
   "source": [
    "from diffusers import StableDiffusionPipeline\n",
    "from pruna.algorithms.smasher_config import AutoSmasherConfig, SmasherConfig\n",
    "from pruna.smash import smash\n",
    "import torch\n",
    "\n",
    "model_id = \"runwayml/stable-diffusion-v1-5\"\n",
    "pipe = StableDiffusionPipeline.from_pretrained(model_id, torch_dtype=torch.float16)\n",
    "pipe = pipe.to(\"cuda\")\n",
    "\n",
    "prompt = \"a photo of an astronaut riding a horse on mars\""
   ]
  },
  {
   "cell_type": "markdown",
   "id": "a491950b",
   "metadata": {},
   "source": [
    "## Smash it!"
   ]
  },
  {
   "cell_type": "code",
   "execution_count": null,
   "id": "410a2411",
   "metadata": {},
   "outputs": [],
   "source": [
    "smasher_config = SmasherConfig()\n",
    "smasher_config['compiler'] = 'diffusers'\n",
    "smasher_config['max_batch_size'] = 1\n",
    "smasher_config['image_height'] = 512\n",
    "smasher_config['image_width'] = 512\n",
    "smasher_config['version'] = '1.5'"
   ]
  },
  {
   "cell_type": "code",
   "execution_count": null,
   "id": "47c05a6c",
   "metadata": {
    "scrolled": true
   },
   "outputs": [],
   "source": [
    "smashed_model = smash(\n",
    "        model=pipe,\n",
    "        data_module=\"LAION256\",\n",
    "        api_key='your-api-key',\n",
    "        model_config=None,\n",
    "        smasher_config=smasher_config,\n",
    "        device='cuda',\n",
    "    )"
   ]
  },
  {
   "cell_type": "markdown",
   "id": "8909d712",
   "metadata": {},
   "source": [
    "## Base Model Generation"
   ]
  },
  {
   "cell_type": "code",
   "execution_count": null,
   "id": "a607d17c",
   "metadata": {},
   "outputs": [],
   "source": [
    "%%time\n",
    "image = pipe(prompt).images[0].show()"
   ]
  },
  {
   "cell_type": "markdown",
   "id": "b7e20052",
   "metadata": {},
   "source": [
    "## Smashed Model Generation"
   ]
  },
  {
   "cell_type": "code",
   "execution_count": null,
   "id": "cbbfa03f",
   "metadata": {},
   "outputs": [],
   "source": [
    "%%time\n",
    "smashed_model(prompt, image_height=512, image_width=512)[0]"
   ]
  }
 ],
 "metadata": {
  "kernelspec": {
   "display_name": "Python 3 (ipykernel)",
   "language": "python",
   "name": "python3"
  },
  "language_info": {
   "codemirror_mode": {
    "name": "ipython",
    "version": 3
   },
   "file_extension": ".py",
   "mimetype": "text/x-python",
   "name": "python",
   "nbconvert_exporter": "python",
   "pygments_lexer": "ipython3",
   "version": "3.9.18"
  }
 },
 "nbformat": 4,
 "nbformat_minor": 5
}
