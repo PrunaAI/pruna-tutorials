{
 "cells": [
  {
   "cell_type": "markdown",
   "id": "5f00e9dd",
   "metadata": {},
   "source": [
    "## Load Base Stable Diffusion Model"
   ]
  },
  {
   "cell_type": "code",
   "execution_count": null,
   "id": "66e2c3f4",
   "metadata": {
    "scrolled": true
   },
   "outputs": [],
   "source": [
    "from diffusers import StableDiffusionImg2ImgPipeline\n",
    "from pruna.algorithms.smasher_config import AutoSmasherConfig\n",
    "from pruna.smash import smash\n",
    "import torch\n",
    "import requests\n",
    "from PIL import Image\n",
    "from io import BytesIO\n",
    "\n",
    "from diffusers import ControlNetModel, StableDiffusionXLControlNetPipeline, AutoencoderKL\n",
    "from diffusers.utils import load_image\n",
    "from PIL import Image\n",
    "import torch\n",
    "import numpy as np\n",
    "import cv2\n",
    "\n",
    "prompt = \"aerial view, a futuristic research complex in a bright foggy jungle, hard lighting\"\n",
    "negative_prompt = 'low quality, bad quality, sketches'\n",
    "\n",
    "image = load_image(\"https://huggingface.co/datasets/hf-internal-testing/diffusers-images/resolve/main/sd_controlnet/hf-logo.png\")\n",
    "\n",
    "controlnet_conditioning_scale = 0.5  # recommended for good generalization\n",
    "\n",
    "controlnet = ControlNetModel.from_pretrained(\n",
    "    \"diffusers/controlnet-canny-sdxl-1.0\",\n",
    "    torch_dtype=torch.float16,\n",
    ")\n",
    "# vae = AutoencoderKL.from_pretrained(\"madebyollin/sdxl-vae-fp16-fix\", torch_dtype=torch.float16)\n",
    "pipe = StableDiffusionXLControlNetPipeline.from_pretrained(\n",
    "    \"stabilityai/stable-diffusion-xl-base-1.0\",\n",
    "    controlnet=controlnet,\n",
    "#     vae=vae,\n",
    "    torch_dtype=torch.float16,\n",
    "\n",
    ")\n",
    "pipe.to('cuda')\n",
    "\n",
    "image = np.array(image)\n",
    "image = cv2.Canny(image, 100, 200)\n",
    "image = image[:, :, None]\n",
    "image = np.concatenate([image, image, image], axis=2)\n",
    "image = Image.fromarray(image)"
   ]
  },
  {
   "cell_type": "markdown",
   "id": "a491950b",
   "metadata": {},
   "source": [
    "## Smash it!"
   ]
  },
  {
   "cell_type": "code",
   "execution_count": null,
   "id": "9b6a3bda",
   "metadata": {},
   "outputs": [],
   "source": [
    "from pruna.algorithms.smasher_config import SmasherConfig\n",
    "\n",
    "smasher_config = SmasherConfig()\n",
    "smasher_config['compiler'] = 'diffusers'\n",
    "smasher_config['max_batch_size'] = 1\n",
    "smasher_config['image_height'] = 512\n",
    "smasher_config['image_width'] = 512\n",
    "smasher_config['version'] = 'xl-1.0'\n",
    "smasher_config['static_shape'] = False\n",
    "smasher_config['controlnet'] = True"
   ]
  },
  {
   "cell_type": "code",
   "execution_count": null,
   "id": "47c05a6c",
   "metadata": {
    "scrolled": true
   },
   "outputs": [],
   "source": [
    "smashed_model = smash(\n",
    "        model=pipe,\n",
    "        data_module=\"img2img\",\n",
    "        api_key='your-api-key',\n",
    "        model_config=None,\n",
    "        smasher_config=smasher_config,\n",
    "        device='cuda',\n",
    "    )"
   ]
  },
  {
   "cell_type": "markdown",
   "id": "8909d712",
   "metadata": {},
   "source": [
    "## Base Model Generation"
   ]
  },
  {
   "cell_type": "code",
   "execution_count": null,
   "id": "a607d17c",
   "metadata": {},
   "outputs": [],
   "source": [
    "%%time\n",
    "pipe(prompt=prompt, image=image).images[0].show()"
   ]
  },
  {
   "cell_type": "markdown",
   "id": "b7e20052",
   "metadata": {},
   "source": [
    "## Smashed Model Generation"
   ]
  },
  {
   "cell_type": "code",
   "execution_count": null,
   "id": "cbbfa03f",
   "metadata": {
    "scrolled": false
   },
   "outputs": [],
   "source": [
    "%%time\n",
    "smashed_model(prompt, init_image=image, image_height=1024, image_width=1024)[0]"
   ]
  }
 ],
 "metadata": {
  "kernelspec": {
   "display_name": "Python 3 (ipykernel)",
   "language": "python",
   "name": "python3"
  },
  "language_info": {
   "codemirror_mode": {
    "name": "ipython",
    "version": 3
   },
   "file_extension": ".py",
   "mimetype": "text/x-python",
   "name": "python",
   "nbconvert_exporter": "python",
   "pygments_lexer": "ipython3",
   "version": "3.9.18"
  }
 },
 "nbformat": 4,
 "nbformat_minor": 5
}
