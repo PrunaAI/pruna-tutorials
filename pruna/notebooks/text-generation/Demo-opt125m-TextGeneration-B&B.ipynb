{
 "cells": [
  {
   "cell_type": "markdown",
   "id": "5f00e9dd",
   "metadata": {},
   "source": [
    "## Load Base Model"
   ]
  },
  {
   "cell_type": "code",
   "execution_count": 2,
   "id": "66e2c3f4",
   "metadata": {
    "scrolled": true
   },
   "outputs": [
    {
     "data": {
      "application/vnd.jupyter.widget-view+json": {
       "model_id": "9d5bcd9b521e40bd9e8db577abd360e1",
       "version_major": 2,
       "version_minor": 0
      },
      "text/plain": [
       "Loading checkpoint shards:   0%|          | 0/8 [00:00<?, ?it/s]"
      ]
     },
     "metadata": {},
     "output_type": "display_data"
    },
    {
     "name": "stderr",
     "output_type": "stream",
     "text": [
      "Asking to truncate to max_length but no maximum length is provided and the model has no predefined maximum length. Default to no truncation.\n"
     ]
    }
   ],
   "source": [
    "from transformers import AutoModelForCausalLM\n",
    "from transformers import AutoTokenizer\n",
    "from pruna.algorithms.smasher_config import SmasherConfig\n",
    "from pruna.smash import smash\n",
    "\n",
    "tokenizer = AutoTokenizer.from_pretrained('facebook/opt-125m')\n",
    "model = AutoModelForCausalLM.from_pretrained('facebook/opt-125m', trust_remote_code=True, torch_dtype=\"auto\" )\n",
    "model.to('cuda')\n",
    "ins = tokenizer(\"What are we having for dinner?\", return_tensors=\"pt\", truncation=True).to('cuda')"
   ]
  },
  {
   "cell_type": "markdown",
   "id": "a491950b",
   "metadata": {},
   "source": [
    "## Smash it!"
   ]
  },
  {
   "cell_type": "markdown",
   "id": "f5913199",
   "metadata": {},
   "source": [
    "### Define Config"
   ]
  },
  {
   "cell_type": "code",
   "execution_count": 3,
   "id": "9b6a3bda",
   "metadata": {},
   "outputs": [],
   "source": [
    "smasher_config = SmasherConfig()\n",
    "smasher_config['quantizer'] = 'bitsandbytes'\n",
    "smasher_config['n_quantization_bits'] = 4\n",
    "smasher_config['tokenizer_name'] = tokenizer"
   ]
  },
  {
   "cell_type": "markdown",
   "id": "9cb79e95",
   "metadata": {},
   "source": [
    "### Smash"
   ]
  },
  {
   "cell_type": "code",
   "execution_count": 4,
   "id": "47c05a6c",
   "metadata": {
    "scrolled": true
   },
   "outputs": [
    {
     "name": "stdout",
     "output_type": "stream",
     "text": [
      "Received a 500 error, retrying in 3 seconds...\n",
      "Quantize...\n"
     ]
    },
    {
     "name": "stderr",
     "output_type": "stream",
     "text": [
      "INFO:accelerate.utils.modeling:We will use 90% of the memory on device 0 for storing the model, and 10% for the buffer to avoid OOM. You can set `max_memory` in to a higher value to use more memory (at your own risk).\n"
     ]
    },
    {
     "data": {
      "application/vnd.jupyter.widget-view+json": {
       "model_id": "c10ca584011b4851953aa0e5240e0c22",
       "version_major": 2,
       "version_minor": 0
      },
      "text/plain": [
       "Loading checkpoint shards:   0%|          | 0/3 [00:00<?, ?it/s]"
      ]
     },
     "metadata": {},
     "output_type": "display_data"
    },
    {
     "name": "stdout",
     "output_type": "stream",
     "text": [
      "Success.\n",
      "CPU times: user 25.6 s, sys: 28.9 s, total: 54.5 s\n",
      "Wall time: 35.4 s\n"
     ]
    }
   ],
   "source": [
    "%%time\n",
    "smashed_model = smash(\n",
    "        model=model,\n",
    "        data_module=\"Polyglot_1000\",\n",
    "        api_key='your-api-key',\n",
    "        model_config=None,\n",
    "        smasher_config=smasher_config,\n",
    "        device='cuda',\n",
    "    )"
   ]
  },
  {
   "cell_type": "markdown",
   "id": "8909d712",
   "metadata": {},
   "source": [
    "## Base Model Generation"
   ]
  },
  {
   "cell_type": "code",
   "execution_count": 5,
   "id": "a09b3a56",
   "metadata": {},
   "outputs": [
    {
     "name": "stdout",
     "output_type": "stream",
     "text": [
      "CPU times: user 947 ms, sys: 44.6 ms, total: 991 ms\n",
      "Wall time: 1.08 s\n"
     ]
    }
   ],
   "source": [
    "%%time\n",
    "results = model.generate(**ins, max_length=30)"
   ]
  },
  {
   "cell_type": "code",
   "execution_count": 6,
   "id": "aac13807",
   "metadata": {},
   "outputs": [],
   "source": [
    "output = tokenizer.decode(results[0], skip_special_tokens=True)"
   ]
  },
  {
   "cell_type": "code",
   "execution_count": 7,
   "id": "c1a5a3d0",
   "metadata": {},
   "outputs": [
    {
     "data": {
      "text/plain": [
       "'What are we having for dinner?\\n\\nIt’s a question that can strike fear into the hearts of even the most seasoned of cook'"
      ]
     },
     "execution_count": 7,
     "metadata": {},
     "output_type": "execute_result"
    }
   ],
   "source": [
    "output"
   ]
  },
  {
   "cell_type": "markdown",
   "id": "b7e20052",
   "metadata": {},
   "source": [
    "## Smashed Model Generation"
   ]
  },
  {
   "cell_type": "code",
   "execution_count": 8,
   "id": "c3a94dab",
   "metadata": {},
   "outputs": [
    {
     "name": "stdout",
     "output_type": "stream",
     "text": [
      "CPU times: user 923 ms, sys: 0 ns, total: 923 ms\n",
      "Wall time: 922 ms\n"
     ]
    }
   ],
   "source": [
    "%%time\n",
    "results = smashed_model(ins.input_ids, max_length=30)"
   ]
  },
  {
   "cell_type": "code",
   "execution_count": 9,
   "id": "42a15f2e",
   "metadata": {},
   "outputs": [],
   "source": [
    "output = tokenizer.decode(results[0], skip_special_tokens=True)"
   ]
  },
  {
   "cell_type": "code",
   "execution_count": 10,
   "id": "c7fe918c",
   "metadata": {},
   "outputs": [
    {
     "data": {
      "text/plain": [
       "'What are we having for dinner?\\n\\nIt’s a question that can strike fear into the heart of even the most organised of us'"
      ]
     },
     "execution_count": 10,
     "metadata": {},
     "output_type": "execute_result"
    }
   ],
   "source": [
    "output"
   ]
  }
 ],
 "metadata": {
  "kernelspec": {
   "display_name": "Python 3 (ipykernel)",
   "language": "python",
   "name": "python3"
  },
  "language_info": {
   "codemirror_mode": {
    "name": "ipython",
    "version": 3
   },
   "file_extension": ".py",
   "mimetype": "text/x-python",
   "name": "python",
   "nbconvert_exporter": "python",
   "pygments_lexer": "ipython3",
   "version": "3.9.18"
  }
 },
 "nbformat": 4,
 "nbformat_minor": 5
}
