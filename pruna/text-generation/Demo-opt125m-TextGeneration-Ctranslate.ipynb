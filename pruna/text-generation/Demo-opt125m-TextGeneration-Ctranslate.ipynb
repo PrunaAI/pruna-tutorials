{
 "cells": [
  {
   "cell_type": "markdown",
   "id": "5f00e9dd",
   "metadata": {},
   "source": [
    "## Load Base Model"
   ]
  },
  {
   "cell_type": "code",
   "execution_count": null,
   "id": "66e2c3f4",
   "metadata": {
    "scrolled": true
   },
   "outputs": [],
   "source": [
    "from transformers import AutoModelForCausalLM\n",
    "from transformers import AutoTokenizer\n",
    "from pruna.algorithms.smasher_config import SmasherConfig\n",
    "from pruna.smash import smash\n",
    "\n",
    "tokenizer = AutoTokenizer.from_pretrained('facebook/opt-125m')\n",
    "model = AutoModelForCausalLM.from_pretrained('facebook/opt-125m', trust_remote_code=True, torch_dtype=\"auto\")\n",
    "model.to('cuda')\n",
    "ins = tokenizer(\"What are we having for dinner?\", return_tensors=\"pt\", truncation=True).to('cuda')"
   ]
  },
  {
   "cell_type": "markdown",
   "id": "a491950b",
   "metadata": {},
   "source": [
    "## Smash it!"
   ]
  },
  {
   "cell_type": "markdown",
   "id": "f5913199",
   "metadata": {},
   "source": [
    "### Define Config"
   ]
  },
  {
   "cell_type": "code",
   "execution_count": null,
   "id": "9b6a3bda",
   "metadata": {},
   "outputs": [],
   "source": [
    "smasher_config = SmasherConfig()\n",
    "smasher_config['compiler'] = 'ctranslate2_generation'\n",
    "smasher_config['n_quantization_bits'] = 16\n",
    "smasher_config['tokenizer_name'] = tokenizer"
   ]
  },
  {
   "cell_type": "markdown",
   "id": "9cb79e95",
   "metadata": {},
   "source": [
    "### Smash"
   ]
  },
  {
   "cell_type": "code",
   "execution_count": null,
   "id": "47c05a6c",
   "metadata": {
    "scrolled": true
   },
   "outputs": [],
   "source": [
    "smashed_model = smash(\n",
    "        model=model,\n",
    "        data_module=\"Polyglot_1000\",\n",
    "        api_key='your-api-key',\n",
    "        model_config=None,\n",
    "        smasher_config=smasher_config,\n",
    "        device='cuda',\n",
    "    )"
   ]
  },
  {
   "cell_type": "markdown",
   "id": "8909d712",
   "metadata": {},
   "source": [
    "## Base Model Generation"
   ]
  },
  {
   "cell_type": "code",
   "execution_count": null,
   "id": "a09b3a56",
   "metadata": {},
   "outputs": [],
   "source": [
    "%%time\n",
    "results = model.generate(**ins, max_length=50)"
   ]
  },
  {
   "cell_type": "code",
   "execution_count": null,
   "id": "aac13807",
   "metadata": {},
   "outputs": [],
   "source": [
    "output = tokenizer.decode(results[0])"
   ]
  },
  {
   "cell_type": "code",
   "execution_count": null,
   "id": "c1a5a3d0",
   "metadata": {},
   "outputs": [],
   "source": [
    "output"
   ]
  },
  {
   "cell_type": "markdown",
   "id": "b7e20052",
   "metadata": {},
   "source": [
    "## Smashed Model Generation"
   ]
  },
  {
   "cell_type": "code",
   "execution_count": null,
   "id": "c3a94dab",
   "metadata": {},
   "outputs": [],
   "source": [
    "%%time\n",
    "results = smashed_model(ins, max_length=50)"
   ]
  },
  {
   "cell_type": "code",
   "execution_count": null,
   "id": "42a15f2e",
   "metadata": {},
   "outputs": [],
   "source": [
    "output = tokenizer.decode(results[0].sequences_ids[0])"
   ]
  },
  {
   "cell_type": "code",
   "execution_count": null,
   "id": "c7fe918c",
   "metadata": {},
   "outputs": [],
   "source": [
    "output"
   ]
  }
 ],
 "metadata": {
  "kernelspec": {
   "display_name": "Python 3 (ipykernel)",
   "language": "python",
   "name": "python3"
  },
  "language_info": {
   "codemirror_mode": {
    "name": "ipython",
    "version": 3
   },
   "file_extension": ".py",
   "mimetype": "text/x-python",
   "name": "python",
   "nbconvert_exporter": "python",
   "pygments_lexer": "ipython3",
   "version": "3.9.18"
  }
 },
 "nbformat": 4,
 "nbformat_minor": 5
}
